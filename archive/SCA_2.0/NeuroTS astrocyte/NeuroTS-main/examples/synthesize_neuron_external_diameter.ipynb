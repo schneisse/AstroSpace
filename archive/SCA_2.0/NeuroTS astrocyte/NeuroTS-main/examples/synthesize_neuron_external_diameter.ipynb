{
  "cells": [
    {
      "cell_type": "code",
      "execution_count": null,
      "metadata": {
        "collapsed": false
      },
      "outputs": [],
      "source": [
        "%matplotlib inline"
      ]
    },
    {
      "cell_type": "markdown",
      "metadata": {},
      "source": [
        "\n# Synthesize a cell with external diametrizer\n\nThis example shows how to synthesize a cell with an external diametrizer.\nAn external diametrizer should have the signature described in\n``neurots.generate.diametrizer.build``.\n\nThe code ``diameter_synthesis`` provides an example of such external diametrizer.\n\n<div class=\"alert alert-danger\"><h4>Warning</h4><p>Note that the ``diameter-synthesis`` package must be installed.</p></div>\n"
      ]
    },
    {
      "cell_type": "code",
      "execution_count": null,
      "metadata": {
        "collapsed": false
      },
      "outputs": [],
      "source": [
        "from pathlib import Path\n\nfrom diameter_synthesis import build_diameters  # pylint: disable=import-error\n\nimport neurots\n\n\ndef run(output_dir, data_dir):\n    \"\"\"Run the example for generating a cell with external diametrizer.\"\"\"\n    # Initialize a neuron with an external diametrizer\n    N = neurots.NeuronGrower(\n        input_distributions=data_dir / \"IN_distr.json\",\n        input_parameters=data_dir / \"IN_params.json\",\n        external_diametrizer=build_diameters.build,\n    )\n\n    # Grow the neuron\n    neuron = N.grow()\n\n    # Export the synthesized cell\n    neuron.write(output_dir / \"generated_cell.asc\")\n    neuron.write(output_dir / \"generated_cell.swc\")\n    neuron.write(output_dir / \"generated_cell.h5\")\n\n\nif __name__ == \"__main__\":\n    result_dir = Path(\"results_neuron_external_diameter\")\n    result_dir.mkdir(parents=True, exist_ok=True)\n\n    run(result_dir, Path(\"data\"))"
      ]
    }
  ],
  "metadata": {
    "kernelspec": {
      "display_name": "Python 3",
      "language": "python",
      "name": "python3"
    },
    "language_info": {
      "codemirror_mode": {
        "name": "ipython",
        "version": 3
      },
      "file_extension": ".py",
      "mimetype": "text/x-python",
      "name": "python",
      "nbconvert_exporter": "python",
      "pygments_lexer": "ipython3",
      "version": "3.8.13"
    }
  },
  "nbformat": 4,
  "nbformat_minor": 0
}