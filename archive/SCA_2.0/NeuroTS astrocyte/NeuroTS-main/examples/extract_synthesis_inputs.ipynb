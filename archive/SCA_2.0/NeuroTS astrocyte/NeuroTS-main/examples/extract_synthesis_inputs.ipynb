{
  "cells": [
    {
      "cell_type": "code",
      "execution_count": 1,
      "metadata": {
        "collapsed": false
      },
      "outputs": [],
      "source": [
        "%matplotlib inline"
      ]
    },
    {
      "cell_type": "markdown",
      "metadata": {},
      "source": [
        "\n",
        "# Extract inputs for synthesis\n",
        "\n",
        "This example shows how to extract the inputs required for synthesis from a set of existing\n",
        "morphologies.\n"
      ]
    },
    {
      "cell_type": "code",
      "execution_count": 2,
      "metadata": {
        "collapsed": false
      },
      "outputs": [
        {
          "ename": "UnboundLocalError",
          "evalue": "local variable 'files' referenced before assignment",
          "output_type": "error",
          "traceback": [
            "\u001b[0;31m---------------------------------------------------------------------------\u001b[0m",
            "\u001b[0;31mUnboundLocalError\u001b[0m                         Traceback (most recent call last)",
            "Cell \u001b[0;32mIn[2], line 52\u001b[0m\n\u001b[1;32m     49\u001b[0m result_dir \u001b[39m=\u001b[39m Path(\u001b[39m\"\u001b[39m\u001b[39mresults_extract_synthesis_inputs\u001b[39m\u001b[39m\"\u001b[39m)\n\u001b[1;32m     50\u001b[0m result_dir\u001b[39m.\u001b[39mmkdir(parents\u001b[39m=\u001b[39m\u001b[39mTrue\u001b[39;00m, exist_ok\u001b[39m=\u001b[39m\u001b[39mTrue\u001b[39;00m)\n\u001b[0;32m---> 52\u001b[0m run(result_dir, Path(\u001b[39m\"\u001b[39;49m\u001b[39mdata\u001b[39;49m\u001b[39m\"\u001b[39;49m))\n",
            "Cell \u001b[0;32mIn[2], line 11\u001b[0m, in \u001b[0;36mrun\u001b[0;34m(output_dir, data_dir)\u001b[0m\n\u001b[1;32m      9\u001b[0m \u001b[39m\"\"\"Run the example for extracting inputs for synthesis.\"\"\"\u001b[39;00m\n\u001b[1;32m     10\u001b[0m \u001b[39m# Generate distribution from directory of neurons\u001b[39;00m\n\u001b[0;32m---> 11\u001b[0m distr \u001b[39m=\u001b[39m extract_input\u001b[39m.\u001b[39;49mdistributions(\n\u001b[1;32m     12\u001b[0m     data_dir \u001b[39m/\u001b[39;49m \u001b[39m\"\u001b[39;49m\u001b[39mneurons\u001b[39;49m\u001b[39m\"\u001b[39;49m, feature\u001b[39m=\u001b[39;49m\u001b[39m\"\u001b[39;49m\u001b[39mpath_distances\u001b[39;49m\u001b[39m\"\u001b[39;49m, diameter_model\u001b[39m=\u001b[39;49m\u001b[39m\"\u001b[39;49m\u001b[39mdefault\u001b[39;49m\u001b[39m\"\u001b[39;49m\n\u001b[1;32m     13\u001b[0m )\n\u001b[1;32m     15\u001b[0m \u001b[39m# Save distributions in a json file\u001b[39;00m\n\u001b[1;32m     16\u001b[0m \u001b[39mwith\u001b[39;00m \u001b[39mopen\u001b[39m(output_dir \u001b[39m/\u001b[39m \u001b[39m\"\u001b[39m\u001b[39mtest_distr.json\u001b[39m\u001b[39m\"\u001b[39m, \u001b[39m\"\u001b[39m\u001b[39mw\u001b[39m\u001b[39m\"\u001b[39m, encoding\u001b[39m=\u001b[39m\u001b[39m\"\u001b[39m\u001b[39mutf-8\u001b[39m\u001b[39m\"\u001b[39m) \u001b[39mas\u001b[39;00m f:\n",
            "File \u001b[0;32m~/opt/anaconda3/envs/SemLab/lib/python3.10/site-packages/neurots/extract_input/input_distributions.py:80\u001b[0m, in \u001b[0;36mdistributions\u001b[0;34m(filepath, neurite_types, threshold_sec, diameter_input_morph, feature, diameter_model)\u001b[0m\n\u001b[1;32m     77\u001b[0m         neurite_type_warning(neurite_type)\n\u001b[1;32m     78\u001b[0m         neurite_types[i] \u001b[39m=\u001b[39m neurite_type \u001b[39m+\u001b[39m \u001b[39m\"\u001b[39m\u001b[39m_dendrite\u001b[39m\u001b[39m\"\u001b[39m\n\u001b[0;32m---> 80\u001b[0m pop_tmd \u001b[39m=\u001b[39m tmd\u001b[39m.\u001b[39;49mio\u001b[39m.\u001b[39;49mload_population(filepath, use_morphio\u001b[39m=\u001b[39;49m\u001b[39mTrue\u001b[39;49;00m)\n\u001b[1;32m     81\u001b[0m pop_nm \u001b[39m=\u001b[39m load_morphologies(filepath)\n\u001b[1;32m     83\u001b[0m input_distributions \u001b[39m=\u001b[39m {\u001b[39m\"\u001b[39m\u001b[39msoma\u001b[39m\u001b[39m\"\u001b[39m: {}, \u001b[39m\"\u001b[39m\u001b[39mbasal_dendrite\u001b[39m\u001b[39m\"\u001b[39m: {}, \u001b[39m\"\u001b[39m\u001b[39mapical_dendrite\u001b[39m\u001b[39m\"\u001b[39m: {}, \u001b[39m\"\u001b[39m\u001b[39maxon\u001b[39m\u001b[39m\"\u001b[39m: {}}\n",
            "File \u001b[0;32m~/opt/anaconda3/envs/SemLab/lib/python3.10/site-packages/tmd/io/io.py:168\u001b[0m, in \u001b[0;36mload_population\u001b[0;34m(neurons, user_tree_types, name, use_morphio)\u001b[0m\n\u001b[1;32m    164\u001b[0m     name \u001b[39m=\u001b[39m name \u001b[39mif\u001b[39;00m name \u001b[39mis\u001b[39;00m \u001b[39mnot\u001b[39;00m \u001b[39mNone\u001b[39;00m \u001b[39melse\u001b[39;00m os\u001b[39m.\u001b[39mpath\u001b[39m.\u001b[39mbasename(neurons)\n\u001b[1;32m    166\u001b[0m pop \u001b[39m=\u001b[39m Population\u001b[39m.\u001b[39mPopulation(name\u001b[39m=\u001b[39mname)\n\u001b[0;32m--> 168\u001b[0m \u001b[39mfor\u001b[39;00m filename \u001b[39min\u001b[39;00m files:\n\u001b[1;32m    169\u001b[0m     \u001b[39mtry\u001b[39;00m:\n\u001b[1;32m    170\u001b[0m         \u001b[39mif\u001b[39;00m \u001b[39mnot\u001b[39;00m use_morphio:\n",
            "\u001b[0;31mUnboundLocalError\u001b[0m: local variable 'files' referenced before assignment"
          ]
        }
      ],
      "source": [
        "import json\n",
        "from pathlib import Path\n",
        "\n",
        "import neurots\n",
        "from neurots import extract_input\n",
        "\n",
        "# datadir = \n",
        "# output_dir = \n",
        "\n",
        "\n",
        "def run(output_dir, data_dir):\n",
        "    \"\"\"Run the example for extracting inputs for synthesis.\"\"\"\n",
        "    # Generate distribution from directory of neurons\n",
        "    distr = extract_input.distributions(\n",
        "        data_dir / \"neurons\", feature=\"path_distances\", diameter_model=\"default\"\n",
        "    )\n",
        "\n",
        "    # Save distributions in a json file\n",
        "    with open(output_dir / \"test_distr.json\", \"w\", encoding=\"utf-8\") as f:\n",
        "        json.dump(distr, f, sort_keys=True, indent=2)\n",
        "\n",
        "    # Generate default parameters for topological synthesis of basal dendrites\n",
        "    params = extract_input.parameters(\n",
        "        neurite_types=[\"basal_dendrite\"], feature=\"path_distances\", method=\"tmd\"\n",
        "    )\n",
        "\n",
        "    # Save parameters in a json file\n",
        "    with open(output_dir / \"test_params.json\", \"w\", encoding=\"utf-8\") as f:\n",
        "        json.dump(params, f, sort_keys=True, indent=2)\n",
        "\n",
        "    # Re-load data from saved distributions\n",
        "    with open(output_dir / \"test_distr.json\", \"r\", encoding=\"utf-8\") as F:\n",
        "        distr = json.load(F)\n",
        "\n",
        "    # Re-load data from saved parameters\n",
        "    with open(output_dir / \"test_params.json\", \"r\", encoding=\"utf-8\") as F:\n",
        "        params = json.load(F)\n",
        "\n",
        "    # Initialize a neuron\n",
        "    N = neurots.NeuronGrower(input_distributions=distr, input_parameters=params)\n",
        "\n",
        "    # Grow the neuron\n",
        "    neuron = N.grow()\n",
        "\n",
        "    # Export the synthesized cell\n",
        "    neuron.write(output_dir / \"generated_cell.asc\")\n",
        "    neuron.write(output_dir / \"generated_cell.swc\")\n",
        "    neuron.write(output_dir / \"generated_cell.h5\")\n",
        "\n",
        "\n",
        "if __name__ == \"__main__\":\n",
        "    result_dir = Path(\"results_extract_synthesis_inputs\")\n",
        "    result_dir.mkdir(parents=True, exist_ok=True)\n",
        "\n",
        "    run(result_dir, Path(\"data\"))"
      ]
    },
    {
      "cell_type": "code",
      "execution_count": null,
      "metadata": {},
      "outputs": [],
      "source": []
    }
  ],
  "metadata": {
    "kernelspec": {
      "display_name": "SemLab",
      "language": "python",
      "name": "python3"
    },
    "language_info": {
      "codemirror_mode": {
        "name": "ipython",
        "version": 3
      },
      "file_extension": ".py",
      "mimetype": "text/x-python",
      "name": "python",
      "nbconvert_exporter": "python",
      "pygments_lexer": "ipython3",
      "version": "3.10.8"
    },
    "vscode": {
      "interpreter": {
        "hash": "0d10ab97754209e24d76ae360f744cc306f0ad9ecbe209534dab26a938f7144b"
      }
    }
  },
  "nbformat": 4,
  "nbformat_minor": 0
}
