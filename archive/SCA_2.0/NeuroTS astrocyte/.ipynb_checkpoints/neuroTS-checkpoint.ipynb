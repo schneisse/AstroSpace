{
 "cells": [
  {
   "cell_type": "code",
   "execution_count": 5,
   "id": "509efa7f-ec01-4a42-8172-cf30e2f53c14",
   "metadata": {},
   "outputs": [],
   "source": [
    "import neurom\n",
    "import neurots\n",
    "import sys"
   ]
  },
  {
   "cell_type": "code",
   "execution_count": 6,
   "id": "a2624d5b-58b7-455e-8ff8-f2b534e93550",
   "metadata": {},
   "outputs": [],
   "source": [
    "inputs = 'annak/Documents/Lab/AstroSpace/AstroSpace/Inputs'\n",
    "outputs = 'annak/Documents/Lab/AstroSpace/AstroSpace/Outputs'"
   ]
  },
  {
   "cell_type": "code",
   "execution_count": null,
   "id": "df2ab97b-a70c-4340-8c75-338166858897",
   "metadata": {},
   "outputs": [],
   "source": []
  }
 ],
 "metadata": {
  "kernelspec": {
   "display_name": "Python 3 (ipykernel)",
   "language": "python",
   "name": "python3"
  },
  "language_info": {
   "codemirror_mode": {
    "name": "ipython",
    "version": 3
   },
   "file_extension": ".py",
   "mimetype": "text/x-python",
   "name": "python",
   "nbconvert_exporter": "python",
   "pygments_lexer": "ipython3",
   "version": "3.10.8"
  }
 },
 "nbformat": 4,
 "nbformat_minor": 5
}
