{
 "cells": [
  {
   "cell_type": "markdown",
   "metadata": {},
   "source": [
    "# New updates and features of SCA\n"
   ]
  },
  {
   "cell_type": "markdown",
   "metadata": {},
   "source": [
    "## Dependencies"
   ]
  },
  {
   "cell_type": "code",
   "execution_count": 2,
   "metadata": {},
   "outputs": [],
   "source": [
    "%matplotlib inline"
   ]
  },
  {
   "cell_type": "code",
   "execution_count": 7,
   "metadata": {},
   "outputs": [],
   "source": [
    "# base func\n",
    "import numpy as np\n",
    "from numpy import array, arange, zeros, ones, sin, cos, pi\n",
    "from numpy import linalg\n",
    "from importlib import reload\n",
    "import sys\n",
    "from pathlib import Path\n",
    "import itertools as itt"
   ]
  },
  {
   "cell_type": "code",
   "execution_count": 8,
   "metadata": {},
   "outputs": [
    {
     "data": {
      "image/png": "[encoded data removed]",
      "text/html": [
       "<div style=\"vertical-align: middle;\"><strong>cmr.torch</strong> </div><div class=\"cmap\"><img alt=\"cmr.torch colormap\" title=\"cmr.torch\" style=\"border: 1px solid #555;\" src=\"data:image/png;base64,iVBORw0KGgoAAAANSUhEUgAAAgAAAABACAYAAABsv8+/AAAAGHRFWHRUaXRsZQBjbXIudG9yY2ggY29sb3JtYXCTlaptAAAAHnRFWHREZXNjcmlwdGlvbgBjbXIudG9yY2ggY29sb3JtYXDRDkzmAAAAMHRFWHRBdXRob3IATWF0cGxvdGxpYiB2My45LjIsIGh0dHBzOi8vbWF0cGxvdGxpYi5vcmdhmcVTAAAAMnRFWHRTb2Z0d2FyZQBNYXRwbG90bGliIHYzLjkuMiwgaHR0cHM6Ly9tYXRwbG90bGliLm9yZ08/WnQAAAJSSURBVHic7dbLdqMwEAVAPfz/nxxmMYCPGrC9v1UbpbsloiQn+PbW2tY+6styfNF7L/NR+mPpv+f3/XMdx775ed+5Pu2r/f/19nU+y/1Lv6xbu++39ir1MX8tdd/rftT7uXGuc6nnXr9KPbdZ5kc99vm+7n+f2dZ1HHVv9/XZX+v3fFv3XfZv+89b5vVcu39Ov+z78bmtlflT/8d5e/h+9T6tzJ/OX/Y9nC/Pv9zv4fdW+73u+7F+32f7cm69X93ffz7/ub4+5+/+3Pn7LPue7lXmvf3dP6/uu9SlP9b6nNf+2O7npf9+va51fe3W/g//yPs6lno7632d474/jv4s/Vn2z3XfXPef79sx7/c/1G287vu9nnt9nLcyv97n9XCuvOfH8Z7/Mn+4Rz13fF4c++q5Xj4/e+mP43N4HJ8rAEAcAQAAAgkAABBIAACAQAIAAAQSAAAgkAAAAIEEAAAIJAAAQCABAAACCQAAEEgAAIBAAgAABBIAACCQAAAAgQQAAAgkAABAIAEAAAIJAAAQSAAAgEACAAAEEgAAIJAAAACBBAAACCQAAEAgAQAAAgkAABBIAACAQAIAAAQSAAAgkAAAAIEEAAAIJAAAQCABAAACCQAAEEgAAIBAAgAABBIAACCQAAAAgQQAAAgkAABAIAEAAAIJAAAQSAAAgEACAAAEEgAAIJAAAACBBAAACCQAAEAgAQAAAgkAABBIAACAQAIAAAQSAAAgkAAAAIEEAAAIJAAAQCABAAACCQAAEEgAAIBAAgAABBIAACCQAAAAgf4BXUpYfDNof/YAAAAASUVORK5CYII=\"></div><div style=\"vertical-align: middle; max-width: 514px; display: flex; justify-content: space-between;\"><div style=\"float: left;\"><div title=\"#000000ff\" style=\"display: inline-block; width: 1em; height: 1em; margin: 0; vertical-align: middle; border: 1px solid #555; background-color: #000000ff;\"></div> under</div><div style=\"margin: 0 auto; display: inline-block;\">bad <div title=\"#00000000\" style=\"display: inline-block; width: 1em; height: 1em; margin: 0; vertical-align: middle; border: 1px solid #555; background-color: #00000000;\"></div></div><div style=\"float: right;\">over <div title=\"#ffffffff\" style=\"display: inline-block; width: 1em; height: 1em; margin: 0; vertical-align: middle; border: 1px solid #555; background-color: #ffffffff;\"></div></div></div>"
      ],
      "text/plain": [
       "<matplotlib.colors.ListedColormap at 0x10d459cd0>"
      ]
     },
     "execution_count": 8,
     "metadata": {},
     "output_type": "execute_result"
    }
   ],
   "source": [
    "# plot func\n",
    "from matplotlib import pyplot as plt\n",
    "import matplotlib as mpl\n",
    "from matplotlib import cm\n",
    "from matplotlib.lines import Line2D\n",
    "import cmasher as cmr\n",
    "\n",
    "from matplotlib.pyplot import figure, gcf, gca, plot, close, xlim, ylim, xlabel, ylabel, title,\\\n",
    "                              subplots\n",
    "from cycler import cycler\n",
    "# plt.style.use('seaborn-dark')\n",
    "\n",
    "sequential_map = 'cmr.torch'\n",
    "gradient_map = 'BuPu'\n",
    "diverging_map = 'cmr.viola'\n",
    "cyclic_map = 'twilight_shifted'\n",
    "\n",
    "plt.rcParams['image.cmap'] = sequential_map\n",
    "plt.get_cmap(sequential_map)"
   ]
  },
  {
   "cell_type": "code",
   "execution_count": 9,
   "metadata": {},
   "outputs": [],
   "source": [
    "import scipy as sp\n",
    "from scipy import ndimage as ndi\n",
    "from scipy import stats\n",
    "import networkx as nx \n",
    "from tqdm.auto import tqdm"
   ]
  },
  {
   "cell_type": "code",
   "execution_count": null,
   "metadata": {},
   "outputs": [],
   "source": []
  }
 ],
 "metadata": {
  "kernelspec": {
   "display_name": "astrospace",
   "language": "python",
   "name": "python3"
  },
  "language_info": {
   "codemirror_mode": {
    "name": "ipython",
    "version": 3
   },
   "file_extension": ".py",
   "mimetype": "text/x-python",
   "name": "python",
   "nbconvert_exporter": "python",
   "pygments_lexer": "ipython3",
   "version": "3.12.7"
  }
 },
 "nbformat": 4,
 "nbformat_minor": 2
}
