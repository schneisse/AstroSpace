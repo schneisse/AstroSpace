{
  "cells": [
    {
      "cell_type": "code",
      "execution_count": null,
      "metadata": {
        "collapsed": false
      },
      "outputs": [],
      "source": [
        "%matplotlib inline"
      ]
    },
    {
      "cell_type": "markdown",
      "metadata": {},
      "source": [
        "\n# Synthesize neuron with a simple diameter model\n\nThis example shows how to synthesize a cell with one of the simple provided diameter models.\n"
      ]
    },
    {
      "cell_type": "code",
      "execution_count": null,
      "metadata": {
        "collapsed": false
      },
      "outputs": [],
      "source": [
        "import json\nfrom pathlib import Path\n\nimport neurots\nfrom neurots import extract_input\n\n\ndef run(output_dir, data_dir):\n    \"\"\"Run the example for generating a cell with a simple diameter model.\"\"\"\n    # Extract distributions with diameters\n    distr = extract_input.distributions(\n        data_dir / \"neurons\", feature=\"path_distances\", diameter_model=\"M5\"\n    )\n\n    # Load default parameters dictionary\n    with open(data_dir / \"bio_params.json\", \"r\", encoding=\"utf-8\") as F:\n        params = json.load(F)\n\n    # Set the diameter method\n    params[\"diameter_params\"][\"method\"] = \"M5\"\n\n    # Initialize a neuron\n    N = neurots.NeuronGrower(input_distributions=distr, input_parameters=params)\n\n    # Grow the neuron\n    neuron = N.grow()\n\n    # Export the synthesized cell\n    neuron.write(output_dir / \"generated_cell.asc\")\n    neuron.write(output_dir / \"generated_cell.swc\")\n    neuron.write(output_dir / \"generated_cell.h5\")\n\n\nif __name__ == \"__main__\":\n    result_dir = Path(\"results_neuron_with_diameters\")\n    result_dir.mkdir(parents=True, exist_ok=True)\n\n    run(result_dir, Path(\"data\"))"
      ]
    }
  ],
  "metadata": {
    "kernelspec": {
      "display_name": "Python 3",
      "language": "python",
      "name": "python3"
    },
    "language_info": {
      "codemirror_mode": {
        "name": "ipython",
        "version": 3
      },
      "file_extension": ".py",
      "mimetype": "text/x-python",
      "name": "python",
      "nbconvert_exporter": "python",
      "pygments_lexer": "ipython3",
      "version": "3.8.13"
    }
  },
  "nbformat": 4,
  "nbformat_minor": 0
}