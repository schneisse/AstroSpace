{
 "cells": [
  {
   "cell_type": "code",
   "execution_count": 12,
   "id": "509efa7f-ec01-4a42-8172-cf30e2f53c14",
   "metadata": {},
   "outputs": [],
   "source": [
    "import neurom\n",
    "import neurots\n",
    "import neurots.astrocyte as na\n",
    "import sys"
   ]
  },
  {
   "cell_type": "code",
   "execution_count": 21,
   "id": "a2624d5b-58b7-455e-8ff8-f2b534e93550",
   "metadata": {},
   "outputs": [],
   "source": [
    "inputs = 'annak/Documents/Lab/AstroSpace/AstroSpace/Inputs'\n",
    "outputs = 'annak/Documents/Lab/AstroSpace/AstroSpace/Outputs'\n"
   ]
  }
 ],
 "metadata": {
  "kernelspec": {
   "display_name": "SemLab",
   "language": "python",
   "name": "python3"
  },
  "language_info": {
   "codemirror_mode": {
    "name": "ipython",
    "version": 3
   },
   "file_extension": ".py",
   "mimetype": "text/x-python",
   "name": "python",
   "nbconvert_exporter": "python",
   "pygments_lexer": "ipython3",
   "version": "3.10.8"
  },
  "vscode": {
   "interpreter": {
    "hash": "0d10ab97754209e24d76ae360f744cc306f0ad9ecbe209534dab26a938f7144b"
   }
  }
 },
 "nbformat": 4,
 "nbformat_minor": 5
}
